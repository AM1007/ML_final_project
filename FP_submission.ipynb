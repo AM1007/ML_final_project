{
  "nbformat": 4,
  "nbformat_minor": 0,
  "metadata": {
    "colab": {
      "provenance": []
    },
    "kernelspec": {
      "name": "python3",
      "display_name": "Python 3"
    },
    "language_info": {
      "name": "python"
    }
  },
  "cells": [
    {
      "cell_type": "code",
      "execution_count": null,
      "metadata": {
        "id": "ZTidGMcRqPhy"
      },
      "outputs": [],
      "source": [
        "import pandas as pd\n",
        "import numpy as np\n",
        "from sklearn.model_selection import train_test_split, cross_val_score\n",
        "from sklearn.preprocessing import StandardScaler, OneHotEncoder\n",
        "from sklearn.impute import SimpleImputer\n",
        "from sklearn.compose import ColumnTransformer\n",
        "from sklearn.pipeline import Pipeline\n",
        "from imblearn.over_sampling import SMOTE\n",
        "from imblearn.pipeline import Pipeline as ImbPipeline\n",
        "from sklearn.ensemble import AdaBoostClassifier\n",
        "\n",
        "# Завантаження даних\n",
        "train_data = pd.read_csv('/kaggle/input/ml-fundamentals-and-applications-2024-10-01/final_proj_data.csv')\n",
        "test_data = pd.read_csv('/kaggle/input/ml-fundamentals-and-applications-2024-10-01/final_proj_test.csv')\n",
        "\n",
        "# Розділення на ознаки та цільову змінну\n",
        "X = train_data.drop('y', axis=1)\n",
        "y = train_data['y']\n",
        "\n",
        "# Визначення числових та категоріальних ознак\n",
        "numeric_features = X.select_dtypes(include=['int64', 'float64']).columns\n",
        "categorical_features = X.select_dtypes(include=['object']).columns\n",
        "\n",
        "# Створення конвеєра для числових змінних\n",
        "numeric_transformer = Pipeline(steps=[\n",
        "    ('imputer', SimpleImputer(strategy='median')),\n",
        "    ('scaler', StandardScaler())\n",
        "])\n",
        "\n",
        "# Створення конвеєра для категоріальних змінних\n",
        "categorical_transformer = Pipeline(steps=[\n",
        "    ('imputer', SimpleImputer(strategy='constant', fill_value='missing')),\n",
        "    ('onehot', OneHotEncoder(handle_unknown='ignore'))\n",
        "])\n",
        "\n",
        "# Об'єднання конвеєрів для обробки всіх змінних\n",
        "preprocessor = ColumnTransformer(\n",
        "    transformers=[\n",
        "        ('num', numeric_transformer, numeric_features),\n",
        "        ('cat', categorical_transformer, categorical_features)\n",
        "    ])\n",
        "\n",
        "# Створення конвеєра з обробкою ознак, SMOTE та класифікатором AdaBoost\n",
        "model = ImbPipeline([\n",
        "    ('preprocessor', preprocessor),\n",
        "    ('smote', SMOTE(random_state=42)),\n",
        "    ('classifier', AdaBoostClassifier(random_state=42))\n",
        "])\n",
        "\n",
        "# Крос-валідація\n",
        "cv_scores = cross_val_score(model, X, y, cv=5, scoring='balanced_accuracy')\n",
        "print(f\"Cross-validation scores: {cv_scores}\")\n",
        "print(f\"Mean balanced accuracy: {cv_scores.mean():.3f} (+/- {cv_scores.std() * 2:.3f})\")\n",
        "\n",
        "# Навчання моделі на всіх тренувальних даних\n",
        "model.fit(X, y)\n",
        "\n",
        "# Прогнози для тестового набору\n",
        "test_predictions = model.predict(test_data)\n",
        "\n",
        "# Створення файлу для відправки результатів\n",
        "submission = pd.DataFrame({'index': test_data.index, 'y': test_predictions})\n",
        "submission.to_csv('/kaggle/working/submission.csv', index=False)\n",
        "\n",
        "print(\"Файл submission.csv успішно створено.\")"
      ]
    }
  ]
}